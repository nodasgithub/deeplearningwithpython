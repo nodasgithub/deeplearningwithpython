{
 "cells": [
  {
   "cell_type": "code",
   "execution_count": 2,
   "id": "qualified-industry",
   "metadata": {},
   "outputs": [],
   "source": [
    "from keras.datasets import imdb\n",
    "import numpy as np"
   ]
  },
  {
   "cell_type": "code",
   "execution_count": 3,
   "id": "absolute-crowd",
   "metadata": {},
   "outputs": [
    {
     "name": "stderr",
     "output_type": "stream",
     "text": [
      "<string>:6: VisibleDeprecationWarning: Creating an ndarray from ragged nested sequences (which is a list-or-tuple of lists-or-tuples-or ndarrays with different lengths or shapes) is deprecated. If you meant to do this, you must specify 'dtype=object' when creating the ndarray\n",
      "c:\\users\\shinn\\appdata\\local\\programs\\python\\python37\\lib\\site-packages\\tensorflow\\python\\keras\\datasets\\imdb.py:159: VisibleDeprecationWarning: Creating an ndarray from ragged nested sequences (which is a list-or-tuple of lists-or-tuples-or ndarrays with different lengths or shapes) is deprecated. If you meant to do this, you must specify 'dtype=object' when creating the ndarray\n",
      "  x_train, y_train = np.array(xs[:idx]), np.array(labels[:idx])\n",
      "c:\\users\\shinn\\appdata\\local\\programs\\python\\python37\\lib\\site-packages\\tensorflow\\python\\keras\\datasets\\imdb.py:160: VisibleDeprecationWarning: Creating an ndarray from ragged nested sequences (which is a list-or-tuple of lists-or-tuples-or ndarrays with different lengths or shapes) is deprecated. If you meant to do this, you must specify 'dtype=object' when creating the ndarray\n",
      "  x_test, y_test = np.array(xs[idx:]), np.array(labels[idx:])\n"
     ]
    }
   ],
   "source": [
    "(train_data, train_labels), (test_data, test_labels) = imdb.load_data(num_words=10000)"
   ]
  },
  {
   "cell_type": "code",
   "execution_count": 4,
   "id": "parallel-shore",
   "metadata": {},
   "outputs": [],
   "source": [
    "def vectorize_sequences(sequences, dimension=10000):\n",
    "    # Create an all-zero matrix of shape\n",
    "    results = np.zeros((len(sequences), dimension))\n",
    "    \n",
    "    for i, sequence in enumerate(sequences):\n",
    "        # Set specific indices of results[i] to 1s\n",
    "        results[i, sequence] = 1.\n",
    "        \n",
    "    return results"
   ]
  },
  {
   "cell_type": "code",
   "execution_count": 5,
   "id": "alpha-climate",
   "metadata": {},
   "outputs": [],
   "source": [
    "# Our vectorized training data\n",
    "x_train = vectorize_sequences(train_data)\n",
    "\n",
    "# Our vectorized test data\n",
    "x_test = vectorize_sequences(test_data)\n",
    "\n",
    "# Our vectorized labels\n",
    "y_train = np.asarray(train_labels).astype('float32')\n",
    "y_test = np.asarray(test_labels).astype('float32')"
   ]
  },
  {
   "cell_type": "code",
   "execution_count": 6,
   "id": "breathing-competition",
   "metadata": {},
   "outputs": [],
   "source": [
    "# Listing 4.3 page 105\n",
    "from keras import models\n",
    "from keras import layers"
   ]
  },
  {
   "cell_type": "code",
   "execution_count": 7,
   "id": "straight-tyler",
   "metadata": {},
   "outputs": [],
   "source": [
    "original_model = models.Sequential()\n",
    "original_model.add(layers.Dense(16, activation='relu', input_shape=(10000,)))\n",
    "original_model.add(layers.Dense(16, activation='relu'))\n",
    "original_model.add(layers.Dense(1, activation='sigmoid'))\n",
    "\n",
    "original_model.compile(optimizer='rmsprop',\n",
    "                      loss='binary_crossentropy',\n",
    "                      metrics=['acc'])"
   ]
  },
  {
   "cell_type": "code",
   "execution_count": 8,
   "id": "iraqi-memory",
   "metadata": {},
   "outputs": [],
   "source": [
    "# Listing 4.4 page 105\n",
    "# Version of the model with lower capacity\n",
    "smaller_model = models.Sequential()\n",
    "smaller_model.add(layers.Dense(4, activation='relu', input_shape=(10000,)))\n",
    "smaller_model.add(layers.Dense(4, activation='relu'))\n",
    "smaller_model.add(layers.Dense(1, activation='sigmoid'))\n",
    "\n",
    "smaller_model.compile(optimizer='rmsprop',\n",
    "                     loss='binary_crossentropy',\n",
    "                     metrics=['acc'])"
   ]
  },
  {
   "cell_type": "code",
   "execution_count": 9,
   "id": "terminal-austria",
   "metadata": {},
   "outputs": [
    {
     "name": "stdout",
     "output_type": "stream",
     "text": [
      "Epoch 1/20\n",
      "49/49 [==============================] - 3s 48ms/step - loss: 0.5674 - acc: 0.7213 - val_loss: 0.3513 - val_acc: 0.8804\n",
      "Epoch 2/20\n",
      "49/49 [==============================] - 1s 18ms/step - loss: 0.2842 - acc: 0.9106 - val_loss: 0.2874 - val_acc: 0.8917\n",
      "Epoch 3/20\n",
      "49/49 [==============================] - 1s 18ms/step - loss: 0.2050 - acc: 0.9317 - val_loss: 0.2829 - val_acc: 0.8874\n",
      "Epoch 4/20\n",
      "49/49 [==============================] - 1s 17ms/step - loss: 0.1712 - acc: 0.9412 - val_loss: 0.3162 - val_acc: 0.8742\n",
      "Epoch 5/20\n",
      "49/49 [==============================] - 1s 17ms/step - loss: 0.1453 - acc: 0.9511 - val_loss: 0.3035 - val_acc: 0.8818\n",
      "Epoch 6/20\n",
      "49/49 [==============================] - 1s 17ms/step - loss: 0.1246 - acc: 0.9587 - val_loss: 0.3483 - val_acc: 0.8698\n",
      "Epoch 7/20\n",
      "49/49 [==============================] - 1s 17ms/step - loss: 0.1101 - acc: 0.9657 - val_loss: 0.3620 - val_acc: 0.8698\n",
      "Epoch 8/20\n",
      "49/49 [==============================] - 1s 17ms/step - loss: 0.0959 - acc: 0.9718 - val_loss: 0.3828 - val_acc: 0.8680\n",
      "Epoch 9/20\n",
      "49/49 [==============================] - 1s 17ms/step - loss: 0.0796 - acc: 0.9771 - val_loss: 0.3937 - val_acc: 0.8682\n",
      "Epoch 10/20\n",
      "49/49 [==============================] - 1s 17ms/step - loss: 0.0704 - acc: 0.9793 - val_loss: 0.4164 - val_acc: 0.8670\n",
      "Epoch 11/20\n",
      "49/49 [==============================] - 1s 17ms/step - loss: 0.0606 - acc: 0.9826 - val_loss: 0.4894 - val_acc: 0.8556\n",
      "Epoch 12/20\n",
      "49/49 [==============================] - 1s 17ms/step - loss: 0.0500 - acc: 0.9865 - val_loss: 0.4930 - val_acc: 0.8595\n",
      "Epoch 13/20\n",
      "49/49 [==============================] - 1s 17ms/step - loss: 0.0450 - acc: 0.9885 - val_loss: 0.5316 - val_acc: 0.8571\n",
      "Epoch 14/20\n",
      "49/49 [==============================] - 1s 17ms/step - loss: 0.0335 - acc: 0.9919 - val_loss: 0.6914 - val_acc: 0.8354\n",
      "Epoch 15/20\n",
      "49/49 [==============================] - 1s 17ms/step - loss: 0.0325 - acc: 0.9924 - val_loss: 0.5740 - val_acc: 0.8561\n",
      "Epoch 16/20\n",
      "49/49 [==============================] - 1s 17ms/step - loss: 0.0219 - acc: 0.9962 - val_loss: 0.6693 - val_acc: 0.8469\n",
      "Epoch 17/20\n",
      "49/49 [==============================] - 1s 17ms/step - loss: 0.0199 - acc: 0.9964 - val_loss: 0.6522 - val_acc: 0.8536\n",
      "Epoch 18/20\n",
      "49/49 [==============================] - 1s 17ms/step - loss: 0.0155 - acc: 0.9968 - val_loss: 0.8670 - val_acc: 0.8342\n",
      "Epoch 19/20\n",
      "49/49 [==============================] - 1s 17ms/step - loss: 0.0154 - acc: 0.9964 - val_loss: 0.7217 - val_acc: 0.8534\n",
      "Epoch 20/20\n",
      "49/49 [==============================] - 1s 18ms/step - loss: 0.0073 - acc: 0.9994 - val_loss: 0.7653 - val_acc: 0.8518\n"
     ]
    }
   ],
   "source": [
    "original_hist = original_model.fit(x_train, y_train,\n",
    "                                  epochs=20,\n",
    "                                  batch_size=512,\n",
    "                                  validation_data=(x_test, y_test))"
   ]
  },
  {
   "cell_type": "code",
   "execution_count": 10,
   "id": "global-briefs",
   "metadata": {},
   "outputs": [
    {
     "name": "stdout",
     "output_type": "stream",
     "text": [
      "Epoch 1/20\n",
      "49/49 [==============================] - 6s 106ms/step - loss: 0.6212 - acc: 0.6336 - val_loss: 0.5222 - val_acc: 0.7753\n",
      "Epoch 2/20\n",
      "49/49 [==============================] - 1s 17ms/step - loss: 0.4874 - acc: 0.8360 - val_loss: 0.4811 - val_acc: 0.8394\n",
      "Epoch 3/20\n",
      "49/49 [==============================] - 1s 17ms/step - loss: 0.4363 - acc: 0.8930 - val_loss: 0.4691 - val_acc: 0.8405\n",
      "Epoch 4/20\n",
      "49/49 [==============================] - 1s 17ms/step - loss: 0.4074 - acc: 0.9186 - val_loss: 0.4486 - val_acc: 0.8806\n",
      "Epoch 5/20\n",
      "49/49 [==============================] - 1s 18ms/step - loss: 0.3838 - acc: 0.9362 - val_loss: 0.4577 - val_acc: 0.8586\n",
      "Epoch 6/20\n",
      "49/49 [==============================] - 1s 18ms/step - loss: 0.3587 - acc: 0.9477 - val_loss: 0.4586 - val_acc: 0.8617\n",
      "Epoch 7/20\n",
      "49/49 [==============================] - 1s 17ms/step - loss: 0.3393 - acc: 0.9560 - val_loss: 0.4453 - val_acc: 0.8722\n",
      "Epoch 8/20\n",
      "49/49 [==============================] - 1s 17ms/step - loss: 0.3214 - acc: 0.9632 - val_loss: 0.4610 - val_acc: 0.8660\n",
      "Epoch 9/20\n",
      "49/49 [==============================] - 1s 16ms/step - loss: 0.3075 - acc: 0.9649 - val_loss: 0.4848 - val_acc: 0.8594\n",
      "Epoch 10/20\n",
      "49/49 [==============================] - 1s 16ms/step - loss: 0.2900 - acc: 0.9704 - val_loss: 0.4907 - val_acc: 0.8607\n",
      "Epoch 11/20\n",
      "49/49 [==============================] - 1s 16ms/step - loss: 0.2792 - acc: 0.9740 - val_loss: 0.5183 - val_acc: 0.8560\n",
      "Epoch 12/20\n",
      "49/49 [==============================] - 1s 16ms/step - loss: 0.2651 - acc: 0.9759 - val_loss: 0.5000 - val_acc: 0.8598\n",
      "Epoch 13/20\n",
      "49/49 [==============================] - 1s 17ms/step - loss: 0.2524 - acc: 0.9795 - val_loss: 0.5148 - val_acc: 0.8591\n",
      "Epoch 14/20\n",
      "49/49 [==============================] - 1s 16ms/step - loss: 0.2412 - acc: 0.9811 - val_loss: 0.5758 - val_acc: 0.8542\n",
      "Epoch 15/20\n",
      "49/49 [==============================] - 1s 17ms/step - loss: 0.2299 - acc: 0.9828 - val_loss: 0.5559 - val_acc: 0.8575\n",
      "Epoch 16/20\n",
      "49/49 [==============================] - 1s 17ms/step - loss: 0.2226 - acc: 0.9832 - val_loss: 0.6758 - val_acc: 0.8467\n",
      "Epoch 17/20\n",
      "49/49 [==============================] - 1s 17ms/step - loss: 0.2112 - acc: 0.9837 - val_loss: 0.6725 - val_acc: 0.8501\n",
      "Epoch 18/20\n",
      "49/49 [==============================] - 1s 17ms/step - loss: 0.2022 - acc: 0.9857 - val_loss: 0.6058 - val_acc: 0.8534\n",
      "Epoch 19/20\n",
      "49/49 [==============================] - 1s 17ms/step - loss: 0.1942 - acc: 0.9857 - val_loss: 0.7197 - val_acc: 0.8487\n",
      "Epoch 20/20\n",
      "49/49 [==============================] - 1s 16ms/step - loss: 0.1848 - acc: 0.9866 - val_loss: 0.7879 - val_acc: 0.8451\n"
     ]
    }
   ],
   "source": [
    "smaller_model_hist = smaller_model.fit(x_train, y_train,\n",
    "                                epochs=20,\n",
    "                                batch_size=512,\n",
    "                                validation_data=(x_test, y_test))"
   ]
  },
  {
   "cell_type": "code",
   "execution_count": 11,
   "id": "lesser-giving",
   "metadata": {},
   "outputs": [],
   "source": [
    "epochs = range(1, 21)\n",
    "original_val_loss = original_hist.history['val_loss']\n",
    "smaller_model_val_loss = smaller_model_hist.history['val_loss']"
   ]
  },
  {
   "cell_type": "code",
   "execution_count": 12,
   "id": "rocky-contributor",
   "metadata": {},
   "outputs": [],
   "source": [
    "import matplotlib.pyplot as plt"
   ]
  },
  {
   "cell_type": "code",
   "execution_count": 13,
   "id": "stuck-observation",
   "metadata": {},
   "outputs": [
    {
     "data": {
      "image/png": "[encoded data removed]",
      "text/plain": [
       "<Figure size 432x288 with 1 Axes>"
      ]
     },
     "metadata": {
      "needs_background": "light"
     },
     "output_type": "display_data"
    }
   ],
   "source": [
    "# b+ is for \"blue cross\"\n",
    "plt.plot(epochs, original_val_loss, 'b+', label='Original model')\n",
    "\n",
    "# \"bo\" is for \"blue dot\"\n",
    "plt.plot(epochs, smaller_model_val_loss, 'bo', label='Smaller model')\n",
    "\n",
    "plt.xlabel('Epochs')\n",
    "plt.ylabel('Validation loss')\n",
    "plt.legend()\n",
    "\n",
    "plt.show()"
   ]
  },
  {
   "cell_type": "code",
   "execution_count": 14,
   "id": "basic-mississippi",
   "metadata": {},
   "outputs": [],
   "source": [
    "# Listing 4.5 page 106\n",
    "# Version of the model with higher capacity\n",
    "bigger_model = models.Sequential()\n",
    "bigger_model.add(layers.Dense(512, activation='relu', input_shape=(10000,)))\n",
    "bigger_model.add(layers.Dense(512, activation='relu'))\n",
    "bigger_model.add(layers.Dense(1, activation='sigmoid'))\n",
    "\n",
    "bigger_model.compile(optimizer='rmsprop',\n",
    "                    loss='binary_crossentropy',\n",
    "                    metrics=['acc'])"
   ]
  },
  {
   "cell_type": "code",
   "execution_count": 15,
   "id": "impaired-teens",
   "metadata": {},
   "outputs": [
    {
     "name": "stdout",
     "output_type": "stream",
     "text": [
      "Epoch 1/20\n",
      "49/49 [==============================] - 7s 122ms/step - loss: 0.5968 - acc: 0.7088 - val_loss: 0.3579 - val_acc: 0.8415\n",
      "Epoch 2/20\n",
      "49/49 [==============================] - 5s 105ms/step - loss: 0.2254 - acc: 0.9053 - val_loss: 0.4542 - val_acc: 0.8037\n",
      "Epoch 3/20\n",
      "49/49 [==============================] - 5s 107ms/step - loss: 0.1320 - acc: 0.9493 - val_loss: 0.3840 - val_acc: 0.8540\n",
      "Epoch 4/20\n",
      "49/49 [==============================] - 6s 118ms/step - loss: 0.0719 - acc: 0.9801 - val_loss: 0.4135 - val_acc: 0.8824\n",
      "Epoch 5/20\n",
      "49/49 [==============================] - 6s 126ms/step - loss: 0.0484 - acc: 0.9925 - val_loss: 0.4773 - val_acc: 0.8830\n",
      "Epoch 6/20\n",
      "49/49 [==============================] - 6s 125ms/step - loss: 0.0026 - acc: 0.9998 - val_loss: 0.6946 - val_acc: 0.8804\n",
      "Epoch 7/20\n",
      "49/49 [==============================] - 5s 110ms/step - loss: 0.0258 - acc: 0.9982 - val_loss: 0.6060 - val_acc: 0.8688\n",
      "Epoch 8/20\n",
      "49/49 [==============================] - 5s 112ms/step - loss: 8.3737e-04 - acc: 1.0000 - val_loss: 0.7074 - val_acc: 0.8800\n",
      "Epoch 9/20\n",
      "49/49 [==============================] - 5s 109ms/step - loss: 9.2022e-05 - acc: 1.0000 - val_loss: 0.8674 - val_acc: 0.8808\n",
      "Epoch 10/20\n",
      "49/49 [==============================] - 6s 129ms/step - loss: 1.3315e-05 - acc: 1.0000 - val_loss: 1.0168 - val_acc: 0.8807\n",
      "Epoch 11/20\n",
      "49/49 [==============================] - 6s 120ms/step - loss: 1.8021e-06 - acc: 1.0000 - val_loss: 1.1832 - val_acc: 0.8802\n",
      "Epoch 12/20\n",
      "49/49 [==============================] - 5s 107ms/step - loss: 2.8501e-07 - acc: 1.0000 - val_loss: 1.3070 - val_acc: 0.8795\n",
      "Epoch 13/20\n",
      "49/49 [==============================] - 5s 107ms/step - loss: 6.8755e-08 - acc: 1.0000 - val_loss: 1.4152 - val_acc: 0.8800\n",
      "Epoch 14/20\n",
      "49/49 [==============================] - 5s 108ms/step - loss: 2.6374e-08 - acc: 1.0000 - val_loss: 1.4681 - val_acc: 0.8793\n",
      "Epoch 15/20\n",
      "49/49 [==============================] - 6s 115ms/step - loss: 1.5864e-08 - acc: 1.0000 - val_loss: 1.5007 - val_acc: 0.8792\n",
      "Epoch 16/20\n",
      "49/49 [==============================] - 6s 115ms/step - loss: 1.1236e-08 - acc: 1.0000 - val_loss: 1.5207 - val_acc: 0.8800\n",
      "Epoch 17/20\n",
      "49/49 [==============================] - 6s 113ms/step - loss: 8.2668e-09 - acc: 1.0000 - val_loss: 1.5376 - val_acc: 0.8798\n",
      "Epoch 18/20\n",
      "49/49 [==============================] - 5s 106ms/step - loss: 6.7866e-09 - acc: 1.0000 - val_loss: 1.5538 - val_acc: 0.8797\n",
      "Epoch 19/20\n",
      "49/49 [==============================] - 5s 109ms/step - loss: 5.6789e-09 - acc: 1.0000 - val_loss: 1.5660 - val_acc: 0.8796\n",
      "Epoch 20/20\n",
      "49/49 [==============================] - 6s 124ms/step - loss: 4.9653e-09 - acc: 1.0000 - val_loss: 1.5776 - val_acc: 0.8794\n"
     ]
    }
   ],
   "source": [
    "bigger_model_hist = bigger_model.fit(x_train, y_train,\n",
    "                                    epochs=20,\n",
    "                                    batch_size=512,\n",
    "                                    validation_data=(x_test, y_test))"
   ]
  },
  {
   "cell_type": "code",
   "execution_count": 16,
   "id": "tutorial-experience",
   "metadata": {},
   "outputs": [
    {
     "data": {
      "image/png": "[encoded data removed]",
      "text/plain": [
       "<Figure size 432x288 with 1 Axes>"
      ]
     },
     "metadata": {
      "needs_background": "light"
     },
     "output_type": "display_data"
    }
   ],
   "source": [
    "bigger_model_val_loss = bigger_model_hist.history['val_loss']\n",
    "\n",
    "plt.plot(epochs, original_val_loss, 'b+', label='Original model')\n",
    "plt.plot(epochs, bigger_model_val_loss, 'bo', label='Bigger model')\n",
    "\n",
    "plt.xlabel('Epochs')\n",
    "plt.ylabel('Validation loss')\n",
    "plt.legend()\n",
    "\n",
    "plt.show()"
   ]
  },
  {
   "cell_type": "code",
   "execution_count": 17,
   "id": "blind-toyota",
   "metadata": {},
   "outputs": [
    {
     "data": {
      "image/png": "[encoded data removed]",
      "text/plain": [
       "<Figure size 432x288 with 1 Axes>"
      ]
     },
     "metadata": {
      "needs_background": "light"
     },
     "output_type": "display_data"
    }
   ],
   "source": [
    "# The training losses for two networks\n",
    "original_train_loss = original_hist.history['loss']\n",
    "bigger_model_train_loss = bigger_model_hist.history['loss']\n",
    "\n",
    "plt.plot(epochs, original_train_loss, 'b+', label='Original model')\n",
    "plt.plot(epochs, bigger_model_train_loss, 'bo', label='Bigger model')\n",
    "\n",
    "plt.xlabel('Epochs')\n",
    "plt.ylabel('Training loss')\n",
    "plt.legend()\n",
    "\n",
    "plt.show()"
   ]
  },
  {
   "cell_type": "code",
   "execution_count": 18,
   "id": "independent-integral",
   "metadata": {},
   "outputs": [],
   "source": [
    "# Listing 4.6 page 108\n",
    "# Weight regularization to the model\n",
    "from keras import regularizers"
   ]
  },
  {
   "cell_type": "code",
   "execution_count": 19,
   "id": "understood-purchase",
   "metadata": {},
   "outputs": [],
   "source": [
    "l2_model = models.Sequential()\n",
    "l2_model.add(layers.Dense(16, kernel_regularizer=regularizers.l2(0.001),\n",
    "                         activation='relu', input_shape=(10000,)))\n",
    "l2_model.add(layers.Dense(16, kernel_regularizer=regularizers.l2(0.001),\n",
    "                         activation='relu'))\n",
    "l2_model.add(layers.Dense(1, activation='sigmoid'))"
   ]
  },
  {
   "cell_type": "code",
   "execution_count": 20,
   "id": "polished-persian",
   "metadata": {},
   "outputs": [],
   "source": [
    "l2_model.compile(optimizer='rmsprop',\n",
    "                loss='binary_crossentropy',\n",
    "                metrics=['acc'])"
   ]
  },
  {
   "cell_type": "code",
   "execution_count": 21,
   "id": "insured-international",
   "metadata": {},
   "outputs": [
    {
     "name": "stdout",
     "output_type": "stream",
     "text": [
      "Epoch 1/20\n",
      "49/49 [==============================] - 3s 42ms/step - loss: 0.5906 - acc: 0.7239 - val_loss: 0.3762 - val_acc: 0.8798\n",
      "Epoch 2/20\n",
      "49/49 [==============================] - 1s 23ms/step - loss: 0.3211 - acc: 0.9048 - val_loss: 0.3744 - val_acc: 0.8628\n",
      "Epoch 3/20\n",
      "49/49 [==============================] - 1s 21ms/step - loss: 0.2650 - acc: 0.9234 - val_loss: 0.3476 - val_acc: 0.8770\n",
      "Epoch 4/20\n",
      "49/49 [==============================] - 1s 22ms/step - loss: 0.2400 - acc: 0.9321 - val_loss: 0.3410 - val_acc: 0.8818\n",
      "Epoch 5/20\n",
      "49/49 [==============================] - 1s 24ms/step - loss: 0.2197 - acc: 0.9427 - val_loss: 0.3391 - val_acc: 0.8834\n",
      "Epoch 6/20\n",
      "49/49 [==============================] - 1s 21ms/step - loss: 0.2140 - acc: 0.9431 - val_loss: 0.3585 - val_acc: 0.8774\n",
      "Epoch 7/20\n",
      "49/49 [==============================] - 1s 22ms/step - loss: 0.2064 - acc: 0.9453 - val_loss: 0.4024 - val_acc: 0.8608\n",
      "Epoch 8/20\n",
      "49/49 [==============================] - 1s 26ms/step - loss: 0.2060 - acc: 0.9470 - val_loss: 0.3622 - val_acc: 0.8786\n",
      "Epoch 9/20\n",
      "49/49 [==============================] - 1s 20ms/step - loss: 0.1985 - acc: 0.9484 - val_loss: 0.3674 - val_acc: 0.8776\n",
      "Epoch 10/20\n",
      "49/49 [==============================] - 1s 25ms/step - loss: 0.1938 - acc: 0.9507 - val_loss: 0.3741 - val_acc: 0.8760\n",
      "Epoch 11/20\n",
      "49/49 [==============================] - 1s 18ms/step - loss: 0.1893 - acc: 0.9534 - val_loss: 0.3895 - val_acc: 0.8723\n",
      "Epoch 12/20\n",
      "49/49 [==============================] - 1s 18ms/step - loss: 0.1907 - acc: 0.9525 - val_loss: 0.3996 - val_acc: 0.8691\n",
      "Epoch 13/20\n",
      "49/49 [==============================] - 1s 18ms/step - loss: 0.1821 - acc: 0.9547 - val_loss: 0.3897 - val_acc: 0.8735\n",
      "Epoch 14/20\n",
      "49/49 [==============================] - 1s 19ms/step - loss: 0.1820 - acc: 0.9548 - val_loss: 0.3964 - val_acc: 0.8730\n",
      "Epoch 15/20\n",
      "49/49 [==============================] - 1s 18ms/step - loss: 0.1831 - acc: 0.9548 - val_loss: 0.4003 - val_acc: 0.8704\n",
      "Epoch 16/20\n",
      "49/49 [==============================] - 1s 19ms/step - loss: 0.1794 - acc: 0.9560 - val_loss: 0.4177 - val_acc: 0.8659\n",
      "Epoch 17/20\n",
      "49/49 [==============================] - 1s 18ms/step - loss: 0.1772 - acc: 0.9572 - val_loss: 0.5137 - val_acc: 0.8398\n",
      "Epoch 18/20\n",
      "49/49 [==============================] - 1s 18ms/step - loss: 0.1768 - acc: 0.9566 - val_loss: 0.4965 - val_acc: 0.8439\n",
      "Epoch 19/20\n",
      "49/49 [==============================] - 1s 18ms/step - loss: 0.1741 - acc: 0.9574 - val_loss: 0.4166 - val_acc: 0.8677\n",
      "Epoch 20/20\n",
      "49/49 [==============================] - 1s 18ms/step - loss: 0.1687 - acc: 0.9598 - val_loss: 0.4497 - val_acc: 0.8633\n"
     ]
    }
   ],
   "source": [
    "l2_model_hist = l2_model.fit(x_train, y_train,\n",
    "                            epochs=20,\n",
    "                            batch_size=512,\n",
    "                            validation_data=(x_test, y_test))"
   ]
  },
  {
   "cell_type": "code",
   "execution_count": 22,
   "id": "matched-developer",
   "metadata": {},
   "outputs": [
    {
     "data": {
      "image/png": "[encoded data removed]",
      "text/plain": [
       "<Figure size 432x288 with 1 Axes>"
      ]
     },
     "metadata": {
      "needs_background": "light"
     },
     "output_type": "display_data"
    }
   ],
   "source": [
    "l2_model_val_loss = l2_model_hist.history['val_loss']\n",
    "\n",
    "plt.plot(epochs, original_val_loss, 'b+', label='Original model')\n",
    "plt.plot(epochs, l2_model_val_loss, 'bo', label='L2-regularized model')\n",
    "\n",
    "plt.xlabel('Epochs')\n",
    "plt.ylabel('Validation loss')\n",
    "plt.legend()\n",
    "\n",
    "plt.show()"
   ]
  },
  {
   "cell_type": "code",
   "execution_count": 23,
   "id": "moderate-anger",
   "metadata": {},
   "outputs": [],
   "source": [
    "from keras import regularizers"
   ]
  },
  {
   "cell_type": "code",
   "execution_count": 24,
   "id": "sapphire-programming",
   "metadata": {},
   "outputs": [
    {
     "data": {
      "text/plain": [
       "<tensorflow.python.keras.regularizers.L1L2 at 0x2f18140dc88>"
      ]
     },
     "execution_count": 24,
     "metadata": {},
     "output_type": "execute_result"
    }
   ],
   "source": [
    "# Listing 4.7 page 108\n",
    "# L1regularization\n",
    "regularizers.l1(0.001)\n",
    "\n",
    "# L1 and L2 regularization at the same time\n",
    "regularizers.l1_l2(l1=0.001, l2=0.001)"
   ]
  },
  {
   "cell_type": "code",
   "execution_count": 30,
   "id": "secondary-savage",
   "metadata": {},
   "outputs": [],
   "source": [
    "# Listing 4.8 page 110\n",
    "# Adding dropout to the IMDB network\n",
    "dpt_model = models.Sequential()\n",
    "dpt_model.add(layers.Dense(16, activation='relu', input_shape=(10000,)))\n",
    "dpt_model.add(layers.Dropout(0.5))\n",
    "\n",
    "dpt_model.add(layers.Dense(16, activation='relu'))\n",
    "dpt_model.add(layers.Dropout(0.5))\n",
    "\n",
    "dpt_model.add(layers.Dense(1, activation='sigmoid'))\n",
    "\n",
    "dpt_model.compile(optimizer='rmsprop',\n",
    "                 loss='binary_crossentropy',\n",
    "                 metrics=['acc'])"
   ]
  },
  {
   "cell_type": "code",
   "execution_count": 31,
   "id": "linear-questionnaire",
   "metadata": {},
   "outputs": [
    {
     "name": "stdout",
     "output_type": "stream",
     "text": [
      "Epoch 1/20\n",
      "49/49 [==============================] - 3s 41ms/step - loss: 0.6555 - acc: 0.5909 - val_loss: 0.4965 - val_acc: 0.8555\n",
      "Epoch 2/20\n",
      "49/49 [==============================] - 1s 22ms/step - loss: 0.5003 - acc: 0.7849 - val_loss: 0.3830 - val_acc: 0.8652\n",
      "Epoch 3/20\n",
      "49/49 [==============================] - 1s 20ms/step - loss: 0.3937 - acc: 0.8545 - val_loss: 0.3154 - val_acc: 0.8844\n",
      "Epoch 4/20\n",
      "49/49 [==============================] - 1s 19ms/step - loss: 0.3222 - acc: 0.8936 - val_loss: 0.2862 - val_acc: 0.8885\n",
      "Epoch 5/20\n",
      "49/49 [==============================] - 1s 20ms/step - loss: 0.2745 - acc: 0.9154 - val_loss: 0.2808 - val_acc: 0.8901\n",
      "Epoch 6/20\n",
      "49/49 [==============================] - 1s 19ms/step - loss: 0.2422 - acc: 0.9247 - val_loss: 0.2868 - val_acc: 0.8878\n",
      "Epoch 7/20\n",
      "49/49 [==============================] - 1s 20ms/step - loss: 0.2179 - acc: 0.9314 - val_loss: 0.2949 - val_acc: 0.8837\n",
      "Epoch 8/20\n",
      "49/49 [==============================] - 1s 20ms/step - loss: 0.1923 - acc: 0.9409 - val_loss: 0.3156 - val_acc: 0.8836\n",
      "Epoch 9/20\n",
      "49/49 [==============================] - 1s 20ms/step - loss: 0.1648 - acc: 0.9490 - val_loss: 0.3395 - val_acc: 0.8832\n",
      "Epoch 10/20\n",
      "49/49 [==============================] - 1s 24ms/step - loss: 0.1557 - acc: 0.9514 - val_loss: 0.3635 - val_acc: 0.8789\n",
      "Epoch 11/20\n",
      "49/49 [==============================] - 1s 20ms/step - loss: 0.1479 - acc: 0.9532 - val_loss: 0.4255 - val_acc: 0.8752\n",
      "Epoch 12/20\n",
      "49/49 [==============================] - 1s 21ms/step - loss: 0.1320 - acc: 0.9583 - val_loss: 0.4213 - val_acc: 0.8783\n",
      "Epoch 13/20\n",
      "49/49 [==============================] - 1s 21ms/step - loss: 0.1225 - acc: 0.9613 - val_loss: 0.4387 - val_acc: 0.8750\n",
      "Epoch 14/20\n",
      "49/49 [==============================] - 1s 22ms/step - loss: 0.1196 - acc: 0.9648 - val_loss: 0.5010 - val_acc: 0.8749\n",
      "Epoch 15/20\n",
      "49/49 [==============================] - 1s 23ms/step - loss: 0.1103 - acc: 0.9663 - val_loss: 0.4897 - val_acc: 0.8738\n",
      "Epoch 16/20\n",
      "49/49 [==============================] - 1s 21ms/step - loss: 0.1079 - acc: 0.9675 - val_loss: 0.5165 - val_acc: 0.8722\n",
      "Epoch 17/20\n",
      "49/49 [==============================] - 1s 22ms/step - loss: 0.0995 - acc: 0.9701 - val_loss: 0.5293 - val_acc: 0.8736\n",
      "Epoch 18/20\n",
      "49/49 [==============================] - 1s 22ms/step - loss: 0.0982 - acc: 0.9719 - val_loss: 0.5745 - val_acc: 0.8724\n",
      "Epoch 19/20\n",
      "49/49 [==============================] - 1s 22ms/step - loss: 0.0900 - acc: 0.9755 - val_loss: 0.6384 - val_acc: 0.8718\n",
      "Epoch 20/20\n",
      "49/49 [==============================] - 1s 21ms/step - loss: 0.0939 - acc: 0.9747 - val_loss: 0.6935 - val_acc: 0.8688\n"
     ]
    }
   ],
   "source": [
    "dpt_model_hist = dpt_model.fit(x_train, y_train,\n",
    "                              epochs=20,\n",
    "                              batch_size=512,\n",
    "                              validation_data=(x_test, y_test))"
   ]
  },
  {
   "cell_type": "code",
   "execution_count": 32,
   "id": "beneficial-order",
   "metadata": {},
   "outputs": [
    {
     "data": {
      "image/png": "[encoded data removed]",
      "text/plain": [
       "<Figure size 432x288 with 1 Axes>"
      ]
     },
     "metadata": {
      "needs_background": "light"
     },
     "output_type": "display_data"
    }
   ],
   "source": [
    "dpt_model_val_loss = dpt_model_hist.history['val_loss']\n",
    "\n",
    "plt.plot(epochs, original_val_loss, 'b+', label='Original model')\n",
    "plt.plot(epochs, dpt_model_val_loss, 'bo', label='Dropout-regularized model')\n",
    "\n",
    "plt.xlabel('Epochs')\n",
    "plt.ylabel('Validation loss')\n",
    "plt.legend()\n",
    "\n",
    "plt.show()"
   ]
  },
  {
   "cell_type": "code",
   "execution_count": null,
   "id": "attractive-lounge",
   "metadata": {},
   "outputs": [],
   "source": []
  }
 ],
 "metadata": {
  "kernelspec": {
   "display_name": "Python 3",
   "language": "python",
   "name": "python3"
  },
  "language_info": {
   "codemirror_mode": {
    "name": "ipython",
    "version": 3
   },
   "file_extension": ".py",
   "mimetype": "text/x-python",
   "name": "python",
   "nbconvert_exporter": "python",
   "pygments_lexer": "ipython3",
   "version": "3.7.7"
  }
 },
 "nbformat": 4,
 "nbformat_minor": 5
}
