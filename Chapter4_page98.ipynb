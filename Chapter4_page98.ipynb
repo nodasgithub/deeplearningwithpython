{
 "cells": [
  {
   "cell_type": "code",
   "execution_count": 6,
   "id": "cleared-violation",
   "metadata": {},
   "outputs": [
    {
     "data": {
      "text/plain": [
       "\"\\n# Listing 4.1 page98\\nnum_validation_samples = 10000\\n\\n# Shuffling the data is usually appropriate\\nnp.random.shuffle(data)\\n\\n# Defines the validation set\\nvalidation_data = data[:num_validation_samples]\\ndata = data[num_validation_samples:]\\n\\n# Defines the training set\\ntraining_data = data[:]\\n\\n# Trains a model on the training data, and evaluates it on the validation data\\nmodel = get_model()\\nmodel.train(training_data)\\nvalidation_score = model.evaluate(validation_data)\\n\\n# At this point you can tune your model,\\n# retrain it, evaluate it, tune it again...\\n# Once you've turned your hyperparameters, its' commont to\\n# train your final model from scratch on all non-test data available\\nmodel = get_model()\\nmodel.train(np.concatenate[training_data, validation_data])\\ntest_score = model.evaluate(test_data)\\n\""
      ]
     },
     "execution_count": 6,
     "metadata": {},
     "output_type": "execute_result"
    }
   ],
   "source": [
    "'''\n",
    "# Listing 4.1 page98\n",
    "num_validation_samples = 10000\n",
    "\n",
    "# Shuffling the data is usually appropriate\n",
    "np.random.shuffle(data)\n",
    "\n",
    "# Defines the validation set\n",
    "validation_data = data[:num_validation_samples]\n",
    "data = data[num_validation_samples:]\n",
    "\n",
    "# Defines the training set\n",
    "training_data = data[:]\n",
    "\n",
    "# Trains a model on the training data, and evaluates it on the validation data\n",
    "model = get_model()\n",
    "model.train(training_data)\n",
    "validation_score = model.evaluate(validation_data)\n",
    "\n",
    "# At this point you can tune your model,\n",
    "# retrain it, evaluate it, tune it again...\n",
    "# Once you've turned your hyperparameters, its' commont to\n",
    "# train your final model from scratch on all non-test data available\n",
    "model = get_model()\n",
    "model.train(np.concatenate[training_data, validation_data])\n",
    "test_score = model.evaluate(test_data)\n",
    "'''"
   ]
  },
  {
   "cell_type": "code",
   "execution_count": 7,
   "id": "prompt-chair",
   "metadata": {},
   "outputs": [
    {
     "data": {
      "text/plain": [
       "'\\n# Listing 4.2 page 99\\nk = 4\\nnum_validation_samples = len(data) // k\\n\\nnp.random.shuffle(data)\\n\\nvalidation_scores = []\\nfor fold in range(k):\\n    # Selects the validation data partion\\n    validation_data = data[num_validation_samples * fold:\\n                          num_validation_samples * (fold + 1)]\\n    \\n    # Uses the remainder of the data as training data.\\n    # Note that the + operator is list concatenation, not summation.\\n    training_data = data[:num_validation_samples * fold] +\\n                        data[num_validation_samples * (fold + 1):]\\n    \\n    # Creates a brand-new instance of the model (untrained)\\n    model = get_model()\\n    model.train(training_data)\\n    validation_score = model.evaluate(validation_data)\\n    validation_scores.append(validation_score)\\n    validation_scores.append(validation_score)\\n    \\n    # Validation score: average of the validation scores of the k folds\\n    validation_score = np.average(validation_scores)\\n    \\n    # Trains the final model on all non-test data available\\n    model = get_model()\\n    model.trian(data)\\n    test_score = model.evaluate(test_data)\\n'"
      ]
     },
     "execution_count": 7,
     "metadata": {},
     "output_type": "execute_result"
    }
   ],
   "source": [
    "'''\n",
    "# Listing 4.2 page 99\n",
    "k = 4\n",
    "num_validation_samples = len(data) // k\n",
    "\n",
    "np.random.shuffle(data)\n",
    "\n",
    "validation_scores = []\n",
    "for fold in range(k):\n",
    "    # Selects the validation data partion\n",
    "    validation_data = data[num_validation_samples * fold:\n",
    "                          num_validation_samples * (fold + 1)]\n",
    "    \n",
    "    # Uses the remainder of the data as training data.\n",
    "    # Note that the + operator is list concatenation, not summation.\n",
    "    training_data = data[:num_validation_samples * fold] +\n",
    "                        data[num_validation_samples * (fold + 1):]\n",
    "    \n",
    "    # Creates a brand-new instance of the model (untrained)\n",
    "    model = get_model()\n",
    "    model.train(training_data)\n",
    "    validation_score = model.evaluate(validation_data)\n",
    "    validation_scores.append(validation_score)\n",
    "    validation_scores.append(validation_score)\n",
    "    \n",
    "    # Validation score: average of the validation scores of the k folds\n",
    "    validation_score = np.average(validation_scores)\n",
    "    \n",
    "    # Trains the final model on all non-test data available\n",
    "    model = get_model()\n",
    "    model.trian(data)\n",
    "    test_score = model.evaluate(test_data)\n",
    "'''"
   ]
  },
  {
   "cell_type": "code",
   "execution_count": null,
   "id": "color-register",
   "metadata": {},
   "outputs": [],
   "source": []
  }
 ],
 "metadata": {
  "kernelspec": {
   "display_name": "Python 3",
   "language": "python",
   "name": "python3"
  },
  "language_info": {
   "codemirror_mode": {
    "name": "ipython",
    "version": 3
   },
   "file_extension": ".py",
   "mimetype": "text/x-python",
   "name": "python",
   "nbconvert_exporter": "python",
   "pygments_lexer": "ipython3",
   "version": "3.7.7"
  }
 },
 "nbformat": 4,
 "nbformat_minor": 5
}
